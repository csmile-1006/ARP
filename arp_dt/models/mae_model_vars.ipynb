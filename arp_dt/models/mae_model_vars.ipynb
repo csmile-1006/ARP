{
 "cells": [
  {
   "cell_type": "code",
   "execution_count": 1,
   "metadata": {},
   "outputs": [
    {
     "name": "stdout",
     "output_type": "stream",
     "text": [
      "Collecting optax==0.1.1\n",
      "  Using cached optax-0.1.1-py3-none-any.whl (136 kB)\n",
      "Requirement already satisfied: absl-py>=0.7.1 in /home/changyeon/anaconda3/envs/procgen/lib/python3.8/site-packages (from optax==0.1.1) (1.3.0)\n",
      "Requirement already satisfied: jaxlib>=0.1.37 in /home/changyeon/anaconda3/envs/procgen/lib/python3.8/site-packages (from optax==0.1.1) (0.4.1+cuda11.cudnn82)\n",
      "Requirement already satisfied: chex>=0.0.4 in /home/changyeon/anaconda3/envs/procgen/lib/python3.8/site-packages (from optax==0.1.1) (0.1.5)\n",
      "Requirement already satisfied: numpy>=1.18.0 in /home/changyeon/anaconda3/envs/procgen/lib/python3.8/site-packages (from optax==0.1.1) (1.23.5)\n",
      "Requirement already satisfied: typing-extensions>=3.10.0 in /home/changyeon/anaconda3/envs/procgen/lib/python3.8/site-packages (from optax==0.1.1) (4.4.0)\n",
      "Requirement already satisfied: jax>=0.1.55 in /home/changyeon/anaconda3/envs/procgen/lib/python3.8/site-packages (from optax==0.1.1) (0.4.1)\n",
      "Requirement already satisfied: dm-tree>=0.1.5 in /home/changyeon/anaconda3/envs/procgen/lib/python3.8/site-packages (from chex>=0.0.4->optax==0.1.1) (0.1.7)\n",
      "Requirement already satisfied: toolz>=0.9.0 in /home/changyeon/anaconda3/envs/procgen/lib/python3.8/site-packages (from chex>=0.0.4->optax==0.1.1) (0.12.0)\n",
      "Requirement already satisfied: opt-einsum in /home/changyeon/anaconda3/envs/procgen/lib/python3.8/site-packages (from jax>=0.1.55->optax==0.1.1) (3.3.0)\n",
      "Requirement already satisfied: scipy>=1.5 in /home/changyeon/anaconda3/envs/procgen/lib/python3.8/site-packages (from jax>=0.1.55->optax==0.1.1) (1.9.3)\n",
      "Installing collected packages: optax\n",
      "  Attempting uninstall: optax\n",
      "    Found existing installation: optax 0.1.4\n",
      "    Uninstalling optax-0.1.4:\n",
      "      Successfully uninstalled optax-0.1.4\n",
      "Successfully installed optax-0.1.1\n"
     ]
    }
   ],
   "source": [
    "import pickle\n",
    "!pip install optax==0.1.1"
   ]
  },
  {
   "cell_type": "code",
   "execution_count": 2,
   "metadata": {},
   "outputs": [],
   "source": [
    "with open('/home/changyeon/procgen_generalization/m3ae/m3ae_small.pkl', 'rb') as f:\n",
    "    model = pickle.load(f)"
   ]
  },
  {
   "cell_type": "code",
   "execution_count": 3,
   "metadata": {},
   "outputs": [
    {
     "data": {
      "text/plain": [
       "dict_keys(['cls_token', 'decoder', 'decoder_image_output', 'decoder_image_type_embedding', 'decoder_input_projection', 'decoder_text_output', 'decoder_text_type_embedding', 'encoder', 'encoder_image_type_embedding', 'encoder_text_type_embedding', 'image_embedding', 'image_mask_embedding', 'text_embedding', 'text_mask_embedding'])"
      ]
     },
     "execution_count": 3,
     "metadata": {},
     "output_type": "execute_result"
    }
   ],
   "source": [
    "model[\"state\"].params[\"params\"].keys()"
   ]
  },
  {
   "cell_type": "code",
   "execution_count": 4,
   "metadata": {},
   "outputs": [],
   "source": [
    "params = model[\"state\"].params"
   ]
  },
  {
   "cell_type": "code",
   "execution_count": 6,
   "metadata": {},
   "outputs": [
    {
     "name": "stdout",
     "output_type": "stream",
     "text": [
      "Requirement already satisfied: optax in /home/changyeon/anaconda3/envs/procgen/lib/python3.8/site-packages (0.1.1)\n",
      "Collecting optax\n",
      "  Using cached optax-0.1.4-py3-none-any.whl (154 kB)\n",
      "Requirement already satisfied: chex>=0.1.5 in /home/changyeon/anaconda3/envs/procgen/lib/python3.8/site-packages (from optax) (0.1.5)\n",
      "Requirement already satisfied: typing-extensions>=3.10.0 in /home/changyeon/anaconda3/envs/procgen/lib/python3.8/site-packages (from optax) (4.4.0)\n",
      "Requirement already satisfied: numpy>=1.18.0 in /home/changyeon/anaconda3/envs/procgen/lib/python3.8/site-packages (from optax) (1.23.5)\n",
      "Requirement already satisfied: jaxlib>=0.1.37 in /home/changyeon/anaconda3/envs/procgen/lib/python3.8/site-packages (from optax) (0.4.1+cuda11.cudnn82)\n",
      "Requirement already satisfied: jax>=0.1.55 in /home/changyeon/anaconda3/envs/procgen/lib/python3.8/site-packages (from optax) (0.4.1)\n",
      "Requirement already satisfied: absl-py>=0.7.1 in /home/changyeon/anaconda3/envs/procgen/lib/python3.8/site-packages (from optax) (1.3.0)\n",
      "Requirement already satisfied: dm-tree>=0.1.5 in /home/changyeon/anaconda3/envs/procgen/lib/python3.8/site-packages (from chex>=0.1.5->optax) (0.1.7)\n",
      "Requirement already satisfied: toolz>=0.9.0 in /home/changyeon/anaconda3/envs/procgen/lib/python3.8/site-packages (from chex>=0.1.5->optax) (0.12.0)\n",
      "Requirement already satisfied: opt-einsum in /home/changyeon/anaconda3/envs/procgen/lib/python3.8/site-packages (from jax>=0.1.55->optax) (3.3.0)\n",
      "Requirement already satisfied: scipy>=1.5 in /home/changyeon/anaconda3/envs/procgen/lib/python3.8/site-packages (from jax>=0.1.55->optax) (1.9.3)\n",
      "Installing collected packages: optax\n",
      "  Attempting uninstall: optax\n",
      "    Found existing installation: optax 0.1.1\n",
      "    Uninstalling optax-0.1.1:\n",
      "      Successfully uninstalled optax-0.1.1\n",
      "Successfully installed optax-0.1.4\n"
     ]
    }
   ],
   "source": [
    "with open('/home/changyeon/procgen_generalization/m3ae/m3ae_small_params.pkl', 'wb') as g:\n",
    "    # m3ae_params = pickle.load(g)\n",
    "    pickle.dump(params, g)\n",
    "\n",
    "!pip install --upgrade optax"
   ]
  },
  {
   "cell_type": "code",
   "execution_count": null,
   "metadata": {},
   "outputs": [],
   "source": []
  }
 ],
 "metadata": {
  "kernelspec": {
   "display_name": "procgen",
   "language": "python",
   "name": "python3"
  },
  "language_info": {
   "codemirror_mode": {
    "name": "ipython",
    "version": 3
   },
   "file_extension": ".py",
   "mimetype": "text/x-python",
   "name": "python",
   "nbconvert_exporter": "python",
   "pygments_lexer": "ipython3",
   "version": "3.8.15 (default, Nov 24 2022, 15:19:38) \n[GCC 11.2.0]"
  },
  "orig_nbformat": 4,
  "vscode": {
   "interpreter": {
    "hash": "ad1f5244d03fb27088dd867b27794b5de4c21827f4a9a9e38fda0cd72abd1296"
   }
  }
 },
 "nbformat": 4,
 "nbformat_minor": 2
}
